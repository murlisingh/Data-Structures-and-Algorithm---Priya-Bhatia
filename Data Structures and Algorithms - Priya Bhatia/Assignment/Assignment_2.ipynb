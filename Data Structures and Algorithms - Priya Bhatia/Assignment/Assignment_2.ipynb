{
  "nbformat": 4,
  "nbformat_minor": 0,
  "metadata": {
    "colab": {
      "name": "Assignment_2.ipynb",
      "provenance": []
    },
    "kernelspec": {
      "name": "python3",
      "display_name": "Python 3"
    },
    "language_info": {
      "name": "python"
    }
  },
  "cells": [
    {
      "cell_type": "markdown",
      "metadata": {
        "id": "rxKEWtQxcNjb"
      },
      "source": [
        "##### **Assignment Problem :** \n",
        "input : Sorted array of n distinct elements which are integers\n",
        "\n",
        "output : Find any element in an array such that an array element and it's corresponding index is same meaning array[i] = i.\n",
        "\n",
        "Write an optimised code with its time complexity for above problem statement."
      ]
    },
    {
      "cell_type": "code",
      "metadata": {
        "colab": {
          "base_uri": "https://localhost:8080/"
        },
        "id": "R8gaNtUwcKMZ",
        "outputId": "23302dfb-6c64-4cdc-cd8d-37a8f61593e2"
      },
      "source": [
        "# Python program to check fixed point\n",
        "# in an array using binary search\n",
        "def binarySearch(arr, low, high):\n",
        "    if high >= low:\n",
        "        mid = (low + high)//2\n",
        "     \n",
        "    if mid is arr[mid]:\n",
        "        return mid\n",
        "     \n",
        "    if mid > arr[mid]:\n",
        "        return binarySearch(arr, (mid + 1), high)\n",
        "    else:\n",
        "        return binarySearch(arr, low, (mid -1))\n",
        "     \n",
        "    # Return -1 if there is no Fixed Point\n",
        "    return -1\n",
        " \n",
        " \n",
        "# Driver program to check above functions */\n",
        "arr = [-10, -1, 0, 3, 10, 11, 30, 50, 100]\n",
        "n = len(arr)\n",
        "print(\"Fixed Point is \" + str(binarySearch(arr, 0, n-1)))"
      ],
      "execution_count": 2,
      "outputs": [
        {
          "output_type": "stream",
          "text": [
            "Fixed Point is 3\n"
          ],
          "name": "stdout"
        }
      ]
    },
    {
      "cell_type": "code",
      "metadata": {
        "id": "IIybe_KKcULD"
      },
      "source": [
        ""
      ],
      "execution_count": null,
      "outputs": []
    }
  ]
}